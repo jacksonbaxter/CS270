{
  "cells": [
    {
      "cell_type": "markdown",
      "metadata": {
        "id": "DVL7_bgmIAPR"
      },
      "source": [
        "# K-Nearest Neighbor Lab\n",
        "Read over the sklearn info on [nearest neighbor learners](https://scikit-learn.org/stable/modules/neighbors.html#nearest-neighbors-classification)\n",
        "\n",
        "\n"
      ]
    },
    {
      "cell_type": "code",
      "execution_count": 1,
      "metadata": {
        "id": "6ZbYjZZZ_yLV"
      },
      "outputs": [],
      "source": [
        "import pandas as pd\n",
        "import numpy as np\n",
        "from sklearn.neighbors import KNeighborsClassifier\n",
        "from sklearn.model_selection import (\n",
        "    train_test_split,\n",
        "    cross_val_score,\n",
        "    GridSearchCV,\n",
        "    StratifiedKFold,\n",
        ")\n",
        "from sklearn.preprocessing import StandardScaler\n",
        "from sklearn.pipeline import Pipeline\n",
        "from sklearn.metrics import (\n",
        "    classification_report,\n",
        "    confusion_matrix,\n",
        "    ConfusionMatrixDisplay,\n",
        "    accuracy_score,\n",
        ")\n",
        "import matplotlib.pyplot as plt\n",
        "import seaborn as sns"
      ]
    },
    {
      "cell_type": "markdown",
      "metadata": {
        "id": "B9cT4vXZxBVC"
      },
      "source": [
        "## 1 K-Nearest Neighbor (KNN) algorithm\n",
        "\n",
        "### 1.1 (15%) Basic KNN Classification\n",
        "\n",
        "Learn the [Glass data set](https://archive.ics.uci.edu/dataset/42/glass+identification) using [KNeighborsClassifier](https://scikit-learn.org/stable/modules/generated/sklearn.neighbors.KNeighborsClassifier.html#sklearn.neighbors.KNeighborsClassifier) with default parameters.\n",
        "- Randomly split your data into train/test.  Anytime we don't tell you specifics (such as what percentage is train vs test) choose your own reasonable values\n",
        "- Give typical train and test set accuracies after running with different random splits\n",
        "- Print the output probabilities for a test set (predict_proba)\n",
        "- Try it with different p values (Minkowskian exponent) and discuss any differences"
      ]
    },
    {
      "cell_type": "code",
      "execution_count": 2,
      "metadata": {
        "colab": {
          "base_uri": "https://localhost:8080/",
          "height": 1000
        },
        "id": "BYhj9otaxBVC",
        "outputId": "f3a5a32e-3e1a-44e7-91d6-2c1e89e3fd5e"
      },
      "outputs": [
        {
          "output_type": "stream",
          "name": "stdout",
          "text": [
            "Cross-Validation Accuracy Scores: [0.74418605 0.65116279 0.65116279 0.69767442 0.5       ]\n",
            "Mean CV Accuracy: 0.65\n"
          ]
        },
        {
          "output_type": "stream",
          "name": "stderr",
          "text": [
            "/usr/local/lib/python3.10/dist-packages/numpy/ma/core.py:2820: RuntimeWarning: invalid value encountered in cast\n",
            "  _data = np.array(data, dtype=dtype, copy=copy,\n"
          ]
        },
        {
          "output_type": "stream",
          "name": "stdout",
          "text": [
            "Best Parameters: {'knn__n_neighbors': 3, 'knn__p': 1, 'knn__weights': 'distance'}\n",
            "Best CV Accuracy: 0.74\n",
            "Classification Report:\n",
            "              precision    recall  f1-score   support\n",
            "\n",
            "           1       0.85      0.81      0.83        21\n",
            "           2       0.81      0.96      0.88        23\n",
            "           3       0.50      0.20      0.29         5\n",
            "           5       1.00      1.00      1.00         4\n",
            "           6       0.75      1.00      0.86         3\n",
            "           7       1.00      0.89      0.94         9\n",
            "\n",
            "    accuracy                           0.85        65\n",
            "   macro avg       0.82      0.81      0.80        65\n",
            "weighted avg       0.84      0.85      0.83        65\n",
            "\n"
          ]
        },
        {
          "output_type": "display_data",
          "data": {
            "text/plain": [
              "<Figure size 640x480 with 2 Axes>"
            ],
            "image/png": "[encoded data removed]"
          },
          "metadata": {}
        },
        {
          "output_type": "stream",
          "name": "stdout",
          "text": [
            "Predicted Probabilities for the Test Set:\n",
            "            1         2    3         5    6         7\n",
            "Id                                                   \n",
            "38   1.000000  0.000000  0.0  0.000000  0.0  0.000000\n",
            "186  0.000000  0.606100  0.0  0.000000  0.0  0.393900\n",
            "173  0.000000  0.000000  0.0  0.655796  0.0  0.344204\n",
            "205  0.000000  0.000000  0.0  0.000000  0.0  1.000000\n",
            "149  0.368224  0.631776  0.0  0.000000  0.0  0.000000\n",
            "Minkowski p=1\n",
            "Cross-Validation Accuracy: 0.71\n",
            "\n",
            "Minkowski p=2\n",
            "Cross-Validation Accuracy: 0.69\n",
            "\n",
            "Minkowski p=3\n",
            "Cross-Validation Accuracy: 0.69\n",
            "\n",
            "Minkowski p=4\n",
            "Cross-Validation Accuracy: 0.68\n",
            "\n",
            "Minkowski p=5\n",
            "Cross-Validation Accuracy: 0.67\n",
            "\n"
          ]
        }
      ],
      "source": [
        "# Load the dataset\n",
        "column_names = [\n",
        "    'Id', 'RI', 'Na', 'Mg', 'Al', 'Si', 'K', 'Ca', 'Ba', 'Fe', 'Type'\n",
        "]\n",
        "data = pd.read_csv('glass.data', names=column_names, index_col='Id')\n",
        "\n",
        "# Features and target variable\n",
        "X = data.drop('Type', axis=1)\n",
        "y = data['Type']\n",
        "\n",
        "# Feature scaling (Standardization)\n",
        "scaler = StandardScaler()\n",
        "X_scaled = scaler.fit_transform(X)\n",
        "\n",
        "# Check for NaNs or Infs after scaling\n",
        "if np.isnan(X_scaled).sum() > 0 or np.isinf(X_scaled).sum() > 0:\n",
        "    print(\"Data contains NaNs or Infs after scaling.\")\n",
        "    X_scaled = np.nan_to_num(X_scaled)\n",
        "\n",
        "# Define a KNN classifier with default parameters\n",
        "knn = KNeighborsClassifier()\n",
        "\n",
        "# Use StratifiedKFold for cross-validation\n",
        "cv = StratifiedKFold(n_splits=5, shuffle=True, random_state=42)\n",
        "\n",
        "# Cross-validation scores\n",
        "cv_scores = cross_val_score(knn, X_scaled, y, cv=cv, scoring='accuracy')\n",
        "print(f\"Cross-Validation Accuracy Scores: {cv_scores}\")\n",
        "print(f\"Mean CV Accuracy: {cv_scores.mean():.2f}\")\n",
        "\n",
        "# Hyperparameter tuning using GridSearchCV\n",
        "param_grid = {\n",
        "    'knn__n_neighbors': range(1, 11),\n",
        "    'knn__p': [1, 2, 3, 4, 5],\n",
        "    'knn__weights': ['uniform', 'distance'],\n",
        "}\n",
        "\n",
        "# Pipeline for scaling and classification\n",
        "pipeline = Pipeline([\n",
        "    ('scaler', StandardScaler()),\n",
        "    ('knn', KNeighborsClassifier())\n",
        "])\n",
        "\n",
        "grid_search = GridSearchCV(\n",
        "    pipeline,\n",
        "    param_grid,\n",
        "    cv=cv,\n",
        "    scoring='accuracy',\n",
        "    n_jobs=-1\n",
        ")\n",
        "\n",
        "grid_search.fit(X, y)\n",
        "\n",
        "print(f\"Best Parameters: {grid_search.best_params_}\")\n",
        "print(f\"Best CV Accuracy: {grid_search.best_score_:.2f}\")\n",
        "\n",
        "# Train-test split with the entire dataset\n",
        "X_train, X_test, y_train, y_test = train_test_split(\n",
        "    X, y, test_size=0.3, random_state=42, stratify=y\n",
        ")\n",
        "\n",
        "# Best estimator from grid search\n",
        "best_knn = grid_search.best_estimator_\n",
        "\n",
        "# Fit the model on the training data\n",
        "best_knn.fit(X_train, y_train)\n",
        "\n",
        "# Predict on the test set\n",
        "y_pred = best_knn.predict(X_test)\n",
        "y_proba = best_knn.predict_proba(X_test)\n",
        "\n",
        "# Classification report\n",
        "print(\"Classification Report:\")\n",
        "print(classification_report(y_test, y_pred))\n",
        "\n",
        "# Confusion matrix\n",
        "cm = confusion_matrix(y_test, y_pred, labels=best_knn.classes_)\n",
        "disp = ConfusionMatrixDisplay(confusion_matrix=cm, display_labels=best_knn.classes_)\n",
        "disp.plot()\n",
        "plt.show()\n",
        "\n",
        "# Output probabilities for the test set\n",
        "proba_df = pd.DataFrame(y_proba, columns=best_knn.classes_)\n",
        "proba_df.index = y_test.index\n",
        "print(\"Predicted Probabilities for the Test Set:\")\n",
        "print(proba_df.head())\n",
        "\n",
        "# Experiment with different p values\n",
        "p_values = [1, 2, 3, 4, 5]\n",
        "for p in p_values:\n",
        "    knn_p = KNeighborsClassifier(n_neighbors=best_knn.named_steps['knn'].n_neighbors, p=p)\n",
        "    pipeline_p = Pipeline([\n",
        "        ('scaler', StandardScaler()),\n",
        "        ('knn', knn_p)\n",
        "    ])\n",
        "    cv_scores_p = cross_val_score(pipeline_p, X, y, cv=cv, scoring='accuracy')\n",
        "    print(f\"Minkowski p={p}\")\n",
        "    print(f\"Cross-Validation Accuracy: {cv_scores_p.mean():.2f}\\n\")"
      ]
    },
    {
      "cell_type": "markdown",
      "metadata": {
        "id": "T4ZtItFJxBVC"
      },
      "source": [
        "The Glass dataset is subjected to a K-Nearest Neighbors (KNN) classifier by the algorithm. First, the data is loaded, and characteristics are extracted from the target variable. `StandardScaler` is used for feature scaling, which standardizes the data and is necessary for distance-based algorithms such as KNN. The code evaluates the initial model using Stratified K-Fold cross-validation after removing NaNs or infinite values, and it achieves a mean accuracy of 65%.\n",
        "\n",
        "The optimal settings, as determined by hyperparameter tuning with `GridSearchCV`, are distance weighting, Manhattan distance (`p=1`), and three neighbors. Cross-validated accuracy rises to 74% as a result. According to the classification report, the model then attains an 85% test accuracy after being trained on a split dataset. The results of experimenting with various `p` values indicate that the Manhattan distance best represents the structure of the data in this instance, with `p=1` showing the best performance."
      ]
    },
    {
      "cell_type": "markdown",
      "metadata": {
        "id": "9vWiTdlbR2Xh"
      },
      "source": [
        "## 2 KNN Classification with normalization and distance weighting\n",
        "\n",
        "Use the [magic telescope](https://axon.cs.byu.edu/data/uci_class/MagicTelescope.arff) dataset\n",
        "\n",
        "### 2.1 (5%) - Without Normalization or Distance Weighting\n",
        "- Do random 80/20 train/test splits each time\n",
        "- Run with k=3 and *without* distance weighting and *without* normalization\n",
        "- Show train and test set accuracy"
      ]
    },
    {
      "cell_type": "code",
      "execution_count": 3,
      "metadata": {
        "id": "4SSoasDQSKXb",
        "colab": {
          "base_uri": "https://localhost:8080/"
        },
        "outputId": "92ea07b7-c9ad-42a4-995d-24eae2272be6"
      },
      "outputs": [
        {
          "output_type": "stream",
          "name": "stdout",
          "text": [
            "Random State: 10\n",
            "Training Accuracy: 0.89\n",
            "Testing Accuracy: 0.80\n",
            "\n",
            "Random State: 20\n",
            "Training Accuracy: 0.88\n",
            "Testing Accuracy: 0.80\n",
            "\n",
            "Random State: 30\n",
            "Training Accuracy: 0.89\n",
            "Testing Accuracy: 0.80\n",
            "\n",
            "Random State: 40\n",
            "Training Accuracy: 0.88\n",
            "Testing Accuracy: 0.80\n",
            "\n",
            "Random State: 50\n",
            "Training Accuracy: 0.89\n",
            "Testing Accuracy: 0.80\n",
            "\n"
          ]
        }
      ],
      "source": [
        "import pandas as pd\n",
        "from scipy.io import arff\n",
        "from sklearn.neighbors import KNeighborsClassifier\n",
        "from sklearn.model_selection import train_test_split\n",
        "from sklearn.metrics import accuracy_score\n",
        "\n",
        "# Load the dataset\n",
        "data, meta = arff.loadarff('MagicTelescope.arff')\n",
        "df = pd.DataFrame(data)\n",
        "\n",
        "# Clean up column names\n",
        "df.columns = df.columns.str.strip().str.replace(':', '', regex=False)\n",
        "\n",
        "# Decode target variable from bytes to string\n",
        "df['class'] = df['class'].apply(lambda x: x.decode('utf-8'))\n",
        "\n",
        "# Features and target variable\n",
        "X = df.drop('class', axis=1)\n",
        "y = df['class']\n",
        "\n",
        "train_accuracies = []\n",
        "test_accuracies = []\n",
        "\n",
        "for random_state in range(10, 60, 10):\n",
        "    # Split the data\n",
        "    X_train, X_test, y_train, y_test = train_test_split(\n",
        "        X, y, test_size=0.2, random_state=random_state, stratify=y\n",
        "    )\n",
        "\n",
        "    # Initialize the classifier\n",
        "    knn = KNeighborsClassifier(n_neighbors=3, weights='uniform')\n",
        "\n",
        "    # Fit the model\n",
        "    knn.fit(X_train, y_train)\n",
        "\n",
        "    # Predictions\n",
        "    y_train_pred = knn.predict(X_train)\n",
        "    y_test_pred = knn.predict(X_test)\n",
        "\n",
        "    # Calculate accuracies\n",
        "    train_acc = accuracy_score(y_train, y_train_pred)\n",
        "    test_acc = accuracy_score(y_test, y_test_pred)\n",
        "    train_accuracies.append(train_acc)\n",
        "    test_accuracies.append(test_acc)\n",
        "\n",
        "    print(f\"Random State: {random_state}\")\n",
        "    print(f\"Training Accuracy: {train_acc:.2f}\")\n",
        "    print(f\"Testing Accuracy: {test_acc:.2f}\\n\")"
      ]
    },
    {
      "cell_type": "markdown",
      "metadata": {
        "id": "q84ZJgBixBVD"
      },
      "source": [
        "Without normalization or distance weighting, the code uses a K-Nearest Neighbors (KNN) classifier with k=3 on the Magic Telescope dataset. After loading and cleaning the data, it uses various random states to carry out several 80/20 train-test splits. The model is trained and assessed for every split, producing consistent testing accuracies of 80% and training accuracies of 88–89%. Although the model may be slightly overfitting to the training data, this consistency indicates that it has a respectable level of generalization. Because KNN is sensitive to feature scales, performance may suffer if normalization is not used. The accuracy and generalization potential of the model may be improved by incorporating feature scaling and experimenting with distance weighting."
      ]
    },
    {
      "cell_type": "markdown",
      "metadata": {
        "id": "2Lr8vhk_xBVD"
      },
      "source": [
        "### 2.2 (10%) With Normalization\n",
        "- Try it with k=3 without distance weighting but *with* normalization of input features.  You may use any reasonable normalization approach (e.g. standard min-max normalization between 0-1, z-transform, etc.)"
      ]
    },
    {
      "cell_type": "code",
      "execution_count": 4,
      "metadata": {
        "id": "UIuwagA7xBVD",
        "colab": {
          "base_uri": "https://localhost:8080/"
        },
        "outputId": "e2319109-c23b-40e2-c0b7-4513b06501b3"
      },
      "outputs": [
        {
          "output_type": "stream",
          "name": "stdout",
          "text": [
            "Random State: 10\n",
            "Training Accuracy: 0.90\n",
            "Testing Accuracy: 0.84\n",
            "\n",
            "Random State: 20\n",
            "Training Accuracy: 0.90\n",
            "Testing Accuracy: 0.84\n",
            "\n",
            "Random State: 30\n",
            "Training Accuracy: 0.90\n",
            "Testing Accuracy: 0.84\n",
            "\n",
            "Random State: 40\n",
            "Training Accuracy: 0.90\n",
            "Testing Accuracy: 0.84\n",
            "\n",
            "Random State: 50\n",
            "Training Accuracy: 0.90\n",
            "Testing Accuracy: 0.83\n",
            "\n"
          ]
        }
      ],
      "source": [
        "# Load the dataset\n",
        "data, meta = arff.loadarff('MagicTelescope.arff')\n",
        "df = pd.DataFrame(data)\n",
        "\n",
        "# Clean up column names\n",
        "df.columns = df.columns.str.strip().str.replace(':', '', regex=False)\n",
        "\n",
        "# Decode target variable from bytes to string\n",
        "df['class'] = df['class'].apply(lambda x: x.decode('utf-8'))\n",
        "\n",
        "# Features and target variable\n",
        "X = df.drop('class', axis=1)\n",
        "y = df['class']\n",
        "\n",
        "# Normalize the input features\n",
        "scaler = StandardScaler()\n",
        "X_scaled = scaler.fit_transform(X)\n",
        "\n",
        "train_accuracies = []\n",
        "test_accuracies = []\n",
        "\n",
        "for random_state in range(10, 60, 10):\n",
        "    # Split the data\n",
        "    X_train, X_test, y_train, y_test = train_test_split(\n",
        "        X_scaled, y, test_size=0.2, random_state=random_state, stratify=y\n",
        "    )\n",
        "\n",
        "    # Initialize the classifier\n",
        "    knn = KNeighborsClassifier(n_neighbors=3, weights='uniform')\n",
        "\n",
        "    # Fit the model\n",
        "    knn.fit(X_train, y_train)\n",
        "\n",
        "    # Predictions\n",
        "    y_train_pred = knn.predict(X_train)\n",
        "    y_test_pred = knn.predict(X_test)\n",
        "\n",
        "    # Calculate accuracies\n",
        "    train_acc = accuracy_score(y_train, y_train_pred)\n",
        "    test_acc = accuracy_score(y_test, y_test_pred)\n",
        "    train_accuracies.append(train_acc)\n",
        "    test_accuracies.append(test_acc)\n",
        "\n",
        "    print(f\"Random State: {random_state}\")\n",
        "    print(f\"Training Accuracy: {train_acc:.2f}\")\n",
        "    print(f\"Testing Accuracy: {test_acc:.2f}\\n\")"
      ]
    },
    {
      "cell_type": "markdown",
      "metadata": {
        "id": "NlEoLynNxBVD"
      },
      "source": [
        "On the Magic Telescope dataset, normalizing the input features greatly enhanced the KNN classifier's performance. The testing accuracy was about 80% while the training accuracy was between 88 and 89% without normalization, suggesting a possible overfitting problem. Training accuracy rose to 90% and testing accuracy to 83–84% following the application of standard normalization using `StandardScaler`. This implies that normalization increased the model's generalization to new data in addition to its capacity to fit the training set. In order to prevent any one feature from unduly influencing the distance calculations in KNN, normalization scales all characteristics to have comparable ranges. As a result, the classifier performs better overall by producing predictions that are more accurate."
      ]
    },
    {
      "cell_type": "markdown",
      "metadata": {
        "id": "yWAUipwlxBVE"
      },
      "source": [
        "### 2.3 (10%) With Distance Weighting\n",
        "- Try it with k=3 and with distance weighting *and* normalization"
      ]
    },
    {
      "cell_type": "code",
      "execution_count": 5,
      "metadata": {
        "id": "K3uRqPlHxBVE",
        "colab": {
          "base_uri": "https://localhost:8080/"
        },
        "outputId": "8281413d-b379-48d7-9057-d95fa6c0d49d"
      },
      "outputs": [
        {
          "output_type": "stream",
          "name": "stdout",
          "text": [
            "Random State: 10\n",
            "Training Accuracy: 1.00\n",
            "Testing Accuracy: 0.84\n",
            "\n",
            "Random State: 20\n",
            "Training Accuracy: 1.00\n",
            "Testing Accuracy: 0.84\n",
            "\n",
            "Random State: 30\n",
            "Training Accuracy: 1.00\n",
            "Testing Accuracy: 0.85\n",
            "\n",
            "Random State: 40\n",
            "Training Accuracy: 1.00\n",
            "Testing Accuracy: 0.84\n",
            "\n",
            "Random State: 50\n",
            "Training Accuracy: 1.00\n",
            "Testing Accuracy: 0.84\n",
            "\n"
          ]
        }
      ],
      "source": [
        "# Load the dataset\n",
        "data, meta = arff.loadarff('MagicTelescope.arff')\n",
        "df = pd.DataFrame(data)\n",
        "\n",
        "# Clean up column names\n",
        "df.columns = df.columns.str.strip().str.replace(':', '', regex=False)\n",
        "\n",
        "# Decode target variable from bytes to string\n",
        "df['class'] = df['class'].apply(lambda x: x.decode('utf-8'))\n",
        "\n",
        "# Features and target variable\n",
        "X = df.drop('class', axis=1)\n",
        "y = df['class']\n",
        "\n",
        "# Normalize the input features\n",
        "scaler = StandardScaler()\n",
        "X_scaled = scaler.fit_transform(X)\n",
        "\n",
        "train_accuracies = []\n",
        "test_accuracies = []\n",
        "\n",
        "for random_state in range(10, 60, 10):\n",
        "    # Split the data\n",
        "    X_train, X_test, y_train, y_test = train_test_split(\n",
        "        X_scaled, y, test_size=0.2, random_state=random_state, stratify=y\n",
        "    )\n",
        "\n",
        "    # Initialize the classifier with distance weighting\n",
        "    knn = KNeighborsClassifier(n_neighbors=3, weights='distance')\n",
        "\n",
        "    # Fit the model\n",
        "    knn.fit(X_train, y_train)\n",
        "\n",
        "    # Predictions\n",
        "    y_train_pred = knn.predict(X_train)\n",
        "    y_test_pred = knn.predict(X_test)\n",
        "\n",
        "    # Calculate accuracies\n",
        "    train_acc = accuracy_score(y_train, y_train_pred)\n",
        "    test_acc = accuracy_score(y_test, y_test_pred)\n",
        "    train_accuracies.append(train_acc)\n",
        "    test_accuracies.append(test_acc)\n",
        "\n",
        "    print(f\"Random State: {random_state}\")\n",
        "    print(f\"Training Accuracy: {train_acc:.2f}\")\n",
        "    print(f\"Testing Accuracy: {test_acc:.2f}\\n\")"
      ]
    },
    {
      "cell_type": "markdown",
      "metadata": {
        "id": "hXBfI0qNxBVE"
      },
      "source": [
        "A training accuracy of 100% was obtained by adding distance weighting to the KNN classifier with k=3 and normalized features, suggesting overfitting to the training set. The testing accuracy, however, stayed between 84 and 85%, which is comparable to earlier findings using normalization but not distance weighting. This implies that distance weighting does not enhance—and may even impair—generalization to unknown data, even when it enables the model to categorize the training data flawlessly. By adding distance weighting, the model became more complex without improving test performance as compared to the previous model without distance weighting, which had training accuracy of about 90% and testing accuracy comparable to that. As a result, distance weighting in this case did not offer any advantages over normalization alone."
      ]
    },
    {
      "cell_type": "markdown",
      "metadata": {
        "id": "mnMjIOJqxBVE"
      },
      "source": [
        "### 2.4 (10%) Different k Values\n",
        "- Using your normalized data with distance weighting, create one graph with classification accuracy on the test set on the y-axis and k values on the x-axis.\n",
        "- Use values of k from 1 to 15.  Use the same train/test split for each."
      ]
    },
    {
      "cell_type": "code",
      "execution_count": 6,
      "metadata": {
        "id": "kpPUXrWhxBVE",
        "colab": {
          "base_uri": "https://localhost:8080/",
          "height": 790
        },
        "outputId": "b3db1f9d-2e28-41dd-ff73-d9e65dafdc88"
      },
      "outputs": [
        {
          "output_type": "stream",
          "name": "stdout",
          "text": [
            "k = 1, Test Set Accuracy: 0.8207\n",
            "k = 2, Test Set Accuracy: 0.8207\n",
            "k = 3, Test Set Accuracy: 0.8462\n",
            "k = 4, Test Set Accuracy: 0.8486\n",
            "k = 5, Test Set Accuracy: 0.8483\n",
            "k = 6, Test Set Accuracy: 0.8502\n",
            "k = 7, Test Set Accuracy: 0.8446\n",
            "k = 8, Test Set Accuracy: 0.8517\n",
            "k = 9, Test Set Accuracy: 0.8491\n",
            "k = 10, Test Set Accuracy: 0.8528\n",
            "k = 11, Test Set Accuracy: 0.8499\n",
            "k = 12, Test Set Accuracy: 0.8515\n",
            "k = 13, Test Set Accuracy: 0.8517\n",
            "k = 14, Test Set Accuracy: 0.8523\n",
            "k = 15, Test Set Accuracy: 0.8546\n"
          ]
        },
        {
          "output_type": "display_data",
          "data": {
            "text/plain": [
              "<Figure size 1000x600 with 1 Axes>"
            ],
            "image/png": "[encoded data removed]"
          },
          "metadata": {}
        }
      ],
      "source": [
        "# Load the dataset\n",
        "data, meta = arff.loadarff('MagicTelescope.arff')\n",
        "df = pd.DataFrame(data)\n",
        "\n",
        "# Clean up column names\n",
        "df.columns = df.columns.str.strip().str.replace(':', '', regex=False)\n",
        "\n",
        "# Decode target variable from bytes to string\n",
        "df['class'] = df['class'].apply(lambda x: x.decode('utf-8'))\n",
        "\n",
        "# Features and target variable\n",
        "X = df.drop('class', axis=1)\n",
        "y = df['class']\n",
        "\n",
        "# Normalize the input features\n",
        "scaler = StandardScaler()\n",
        "X_scaled = scaler.fit_transform(X)\n",
        "\n",
        "# Split the data (using the same random state for consistency)\n",
        "X_train, X_test, y_train, y_test = train_test_split(\n",
        "    X_scaled, y, test_size=0.2, random_state=42, stratify=y\n",
        ")\n",
        "\n",
        "k_values = range(1, 16)\n",
        "test_accuracies = []\n",
        "\n",
        "for k in k_values:\n",
        "    # Initialize the classifier with distance weighting\n",
        "    knn = KNeighborsClassifier(n_neighbors=k, weights='distance')\n",
        "\n",
        "    # Fit the model\n",
        "    knn.fit(X_train, y_train)\n",
        "\n",
        "    # Predict on the test set\n",
        "    y_test_pred = knn.predict(X_test)\n",
        "\n",
        "    # Calculate accuracy\n",
        "    test_acc = accuracy_score(y_test, y_test_pred)\n",
        "    test_accuracies.append(test_acc)\n",
        "\n",
        "    print(f\"k = {k}, Test Set Accuracy: {test_acc:.4f}\")\n",
        "\n",
        "# Plotting the results\n",
        "plt.figure(figsize=(10, 6))\n",
        "plt.plot(k_values, test_accuracies, marker='o')\n",
        "plt.title('KNN Test Set Accuracy vs. k (n_neighbors)')\n",
        "plt.xlabel('Number of Neighbors (k)')\n",
        "plt.ylabel('Test Set Accuracy')\n",
        "plt.xticks(k_values)\n",
        "plt.grid(True)\n",
        "plt.show()"
      ]
    },
    {
      "cell_type": "markdown",
      "metadata": {
        "id": "XGytOuX4xBVE"
      },
      "source": [
        "Using the Magic Telescope dataset, the algorithm assesses the variation in test set accuracy of a KNN classifier with distance weighting and normalized features with varying k values. Starting at 82.07% for k=1 and rising to 85.46% for k=15, the data demonstrate that test accuracy generally improves as k increases from 1 to 15. According to this pattern, adding more neighbors improves the model's capacity for generalization by mitigating the effects of noise and smoothing out decision boundaries. When paired with normalization, distance weighting enables the classifier to assign greater weight to nearby neighbors, leading to improved performance. Higher k values with distance weighting and normalization hence result in better accuracy for this dataset."
      ]
    },
    {
      "cell_type": "markdown",
      "metadata": {
        "id": "SIRG42TgSR4x"
      },
      "source": [
        "## 3 KNN Regression with normalization and distance weighting\n",
        "\n",
        "Use the [sklean KNeighborsRegressor](https://scikit-learn.org/stable/modules/generated/sklearn.neighbors.KNeighborsRegressor.html#sklearn.neighbors.KNeighborsRegressor) on the [housing price prediction](https://axon.cs.byu.edu/data/uci_regression/housing.arff) problem.  \n",
        "### 3.1 (5%) Ethical Data\n",
        "Note this data set has an example of an inappropriate input feature which we discussed.  State which feature is inappropriate and discuss why."
      ]
    },
    {
      "cell_type": "markdown",
      "metadata": {
        "id": "9AHyJWjcxBVE"
      },
      "source": [
        "The Boston Housing dataset's 'B' feature, which is 1000(Bk - 0.63)², is incorrect. Bk is the percentage of Black population in each municipality. Systemic biases and discrimination can be reinforced by using race-based features, such as 'B', in predictive models. Redlining and unequal resource distribution are two examples of immoral and unfair results that might result from using ethnic composition as a prediction. It can also be against the law, which prohibits discrimination. Such models run the danger of incorporating and exaggerating societal biases into their forecasts. In order to advance equity and moral integrity in data analysis and machine learning applications, it is imperative that sensitive variables like race be excluded."
      ]
    },
    {
      "cell_type": "markdown",
      "metadata": {
        "id": "KX_uARRsxBVF"
      },
      "source": [
        "### 3.2 (15%) - KNN Regression\n",
        "- Do random 80/20 train/test splits each time\n",
        "- Run with k=3\n",
        "- Print the score (coefficient of determination) and Mean Absolute Error (MAE) for the train and test set for the cases of\n",
        "  - No input normalization and no distance weighting\n",
        "  - Normalization and no distance weighting\n",
        "  - Normalization and distance weighting\n",
        "- Normalize inputs features where needed but do not normalize the output"
      ]
    },
    {
      "cell_type": "code",
      "execution_count": 9,
      "metadata": {
        "id": "KBGUn43ASiXW",
        "colab": {
          "base_uri": "https://localhost:8080/"
        },
        "outputId": "4776ee70-90e9-4d85-dbab-2ef54a86fd79"
      },
      "outputs": [
        {
          "output_type": "stream",
          "name": "stdout",
          "text": [
            "Case 1 - No Normalization & No Distance Weighting:\n",
            "  Train R² Score: 0.8266\n",
            "  Test R² Score: 0.4397\n",
            "  Train MAE: 2.5824\n",
            "  Test MAE: 4.0908\n",
            "\n",
            "Case 2 - Normalization & No Distance Weighting:\n",
            "  Train R² Score: 0.9020\n",
            "  Test R² Score: 0.7941\n",
            "  Train MAE: 1.8242\n",
            "  Test MAE: 2.6592\n",
            "\n",
            "Case 3 - Normalization & Distance Weighting:\n",
            "  Train R² Score: 1.0000\n",
            "  Test R² Score: 0.7917\n",
            "  Train MAE: 0.0000\n",
            "  Test MAE: 2.6516\n",
            "\n"
          ]
        }
      ],
      "source": [
        "import pandas as pd\n",
        "from scipy.io import arff\n",
        "import numpy as np\n",
        "from sklearn.neighbors import KNeighborsRegressor\n",
        "from sklearn.model_selection import train_test_split\n",
        "from sklearn.metrics import r2_score, mean_absolute_error\n",
        "from sklearn.preprocessing import StandardScaler\n",
        "\n",
        "# Load the dataset\n",
        "data, meta = arff.loadarff('housing.arff')\n",
        "df = pd.DataFrame(data)\n",
        "\n",
        "# Decode byte strings to normal strings and convert to float\n",
        "for column in df.columns:\n",
        "    df[column] = df[column].apply(lambda x: float(x.decode('utf-8')) if isinstance(x, bytes) else x)\n",
        "\n",
        "# Drop the inappropriate feature 'B'\n",
        "df = df.drop('B', axis=1)\n",
        "\n",
        "# Features and target variable\n",
        "X = df.drop('MEDV', axis=1)  # 'MEDV' is the target variable\n",
        "y = df['MEDV'].values  # Ensure y is a NumPy array\n",
        "\n",
        "def train_evaluate_knn(X, y, normalize=False, distance_weighting=False):\n",
        "    # Normalize input features if required\n",
        "    if normalize:\n",
        "        scaler = StandardScaler()\n",
        "        X = scaler.fit_transform(X)\n",
        "    else:\n",
        "        X = X.values  # Ensure X is a NumPy array\n",
        "\n",
        "    # Split the data (80% train, 20% test)\n",
        "    X_train, X_test, y_train, y_test = train_test_split(\n",
        "        X, y, test_size=0.2, random_state=42\n",
        "    )\n",
        "\n",
        "    # Initialize the KNN regressor\n",
        "    if distance_weighting:\n",
        "        weights = 'distance'\n",
        "    else:\n",
        "        weights = 'uniform'\n",
        "    knn = KNeighborsRegressor(n_neighbors=3, weights=weights)\n",
        "\n",
        "    # Train the model\n",
        "    knn.fit(X_train, y_train)\n",
        "\n",
        "    # Predictions\n",
        "    y_train_pred = knn.predict(X_train)\n",
        "    y_test_pred = knn.predict(X_test)\n",
        "\n",
        "    # Evaluate the model\n",
        "    results = {\n",
        "        'Train R2 Score': r2_score(y_train, y_train_pred),\n",
        "        'Test R2 Score': r2_score(y_test, y_test_pred),\n",
        "        'Train MAE': mean_absolute_error(y_train, y_train_pred),\n",
        "        'Test MAE': mean_absolute_error(y_test, y_test_pred)\n",
        "    }\n",
        "\n",
        "    return results\n",
        "\n",
        "# Case 1 - No Normalization & No Distance Weighting\n",
        "results_case1 = train_evaluate_knn(X, y, normalize=False, distance_weighting=False)\n",
        "\n",
        "# Case 2 - Normalization & No Distance Weighting\n",
        "results_case2 = train_evaluate_knn(X, y, normalize=True, distance_weighting=False)\n",
        "\n",
        "# Case 3 - Normalization & Distance Weighting\n",
        "results_case3 = train_evaluate_knn(X, y, normalize=True, distance_weighting=True)\n",
        "\n",
        "# Function to display results\n",
        "def display_results(case_name, results):\n",
        "    print(f\"{case_name}:\")\n",
        "    print(f\"  Train R² Score: {results['Train R2 Score']:.4f}\")\n",
        "    print(f\"  Test R² Score: {results['Test R2 Score']:.4f}\")\n",
        "    print(f\"  Train MAE: {results['Train MAE']:.4f}\")\n",
        "    print(f\"  Test MAE: {results['Test MAE']:.4f}\")\n",
        "    print()\n",
        "\n",
        "# Display results for all cases\n",
        "display_results('Case 1 - No Normalization & No Distance Weighting', results_case1)\n",
        "display_results('Case 2 - Normalization & No Distance Weighting', results_case2)\n",
        "display_results('Case 3 - Normalization & Distance Weighting', results_case3)"
      ]
    },
    {
      "cell_type": "markdown",
      "metadata": {
        "id": "hWemmJJTxBVF"
      },
      "source": [
        "Three situations are tested when the algorithm uses K-Nearest Neighbors regression to the Boston Housing dataset:\n",
        "\n",
        "A low test R2 of 0.4397 and a moderate training R2 score of 0.8266 are obtained from Case 1 (no normalization, no distance weighting), suggesting overfitting and poor generalization as a result of unscaled feature effect.\n",
        "\n",
        "Performance is greatly enhanced in Case 2 (Normalization, no distance weighting), which results in a training R2 of 0.9020 and a test R2 of 0.7941 with a lower MAE. This emphasizes how crucial feature normalization is in KNN to guarantee that each feature contributes evenly to distance computations.\n",
        "\n",
        "The perfect training fit (R2 = 1.0000, MAE = 0.0000) in Case 3 (normalization and distance weighting) is accompanied by test performance that is comparable to Case 2 (test R2 = 0.79), suggesting overfitting without generalization improvements.\n",
        "\n",
        "While distance weighting overfits the training data without enhancing test outcomes, normalization generally improves model accuracy."
      ]
    },
    {
      "cell_type": "markdown",
      "metadata": {
        "id": "u2U963PjxBVF"
      },
      "source": [
        "### 3.3 (10%)  Different k Values\n",
        "- Using housing with normalized data and distance weighting, create one graph with MAE on the test set on the y-axis and k values on the x-axis\n",
        "- Use values of k from 1 to 15.  Use the same train/test split for each."
      ]
    },
    {
      "cell_type": "code",
      "execution_count": 10,
      "metadata": {
        "id": "flEeXRLExBVF",
        "colab": {
          "base_uri": "https://localhost:8080/",
          "height": 795
        },
        "outputId": "93bf3562-d5a3-482c-ce1e-f42036ca9708"
      },
      "outputs": [
        {
          "output_type": "stream",
          "name": "stdout",
          "text": [
            "k = 1, Test Set MAE: 2.9284\n",
            "k = 2, Test Set MAE: 2.5555\n",
            "k = 3, Test Set MAE: 2.6516\n",
            "k = 4, Test Set MAE: 2.6240\n",
            "k = 5, Test Set MAE: 2.5800\n",
            "k = 6, Test Set MAE: 2.6529\n",
            "k = 7, Test Set MAE: 2.6531\n",
            "k = 8, Test Set MAE: 2.6892\n",
            "k = 9, Test Set MAE: 2.6928\n",
            "k = 10, Test Set MAE: 2.7400\n",
            "k = 11, Test Set MAE: 2.7051\n",
            "k = 12, Test Set MAE: 2.6931\n",
            "k = 13, Test Set MAE: 2.6812\n",
            "k = 14, Test Set MAE: 2.6947\n",
            "k = 15, Test Set MAE: 2.7014\n"
          ]
        },
        {
          "output_type": "display_data",
          "data": {
            "text/plain": [
              "<Figure size 1000x600 with 1 Axes>"
            ],
            "image/png": "[encoded data removed]"
          },
          "metadata": {}
        }
      ],
      "source": [
        "# Load the dataset\n",
        "data, meta = arff.loadarff('housing.arff')\n",
        "df = pd.DataFrame(data)\n",
        "\n",
        "# Decode byte strings to floats\n",
        "for column in df.columns:\n",
        "    df[column] = df[column].apply(lambda x: float(x.decode('utf-8')) if isinstance(x, bytes) else x)\n",
        "\n",
        "# Drop the inappropriate feature 'B'\n",
        "df = df.drop('B', axis=1)\n",
        "\n",
        "# Features and target variable\n",
        "X = df.drop('MEDV', axis=1)\n",
        "y = df['MEDV'].values\n",
        "\n",
        "# Normalize the input features\n",
        "scaler = StandardScaler()\n",
        "X_scaled = scaler.fit_transform(X)\n",
        "\n",
        "# Split the data (same split for all k values)\n",
        "X_train, X_test, y_train, y_test = train_test_split(\n",
        "    X_scaled, y, test_size=0.2, random_state=42\n",
        ")\n",
        "\n",
        "k_values = range(1, 16)\n",
        "test_mae_values = []\n",
        "\n",
        "for k in k_values:\n",
        "    # Initialize the KNN regressor with distance weighting\n",
        "    knn = KNeighborsRegressor(n_neighbors=k, weights='distance')\n",
        "\n",
        "    # Train the model\n",
        "    knn.fit(X_train, y_train)\n",
        "\n",
        "    # Predict on the test set\n",
        "    y_test_pred = knn.predict(X_test)\n",
        "\n",
        "    # Calculate MAE\n",
        "    test_mae = mean_absolute_error(y_test, y_test_pred)\n",
        "    test_mae_values.append(test_mae)\n",
        "\n",
        "    print(f\"k = {k}, Test Set MAE: {test_mae:.4f}\")\n",
        "\n",
        "# Plotting the results\n",
        "plt.figure(figsize=(10, 6))\n",
        "plt.plot(k_values, test_mae_values, marker='o', linestyle='-', color='b')\n",
        "plt.title('KNN Regression Test Set MAE vs. Number of Neighbors (k)')\n",
        "plt.xlabel('Number of Neighbors (k)')\n",
        "plt.ylabel('Mean Absolute Error (MAE) on Test Set')\n",
        "plt.xticks(k_values)\n",
        "plt.grid(True)\n",
        "plt.show()"
      ]
    },
    {
      "cell_type": "markdown",
      "metadata": {
        "id": "Pvt2OGC0xBVF"
      },
      "source": [
        "Using distance weighting and normalized characteristics, the code runs K-Nearest Neighbors regression on the Boston Housing dataset, with k ranging from 1 to 15. The findings demonstrate increased accuracy as the test set Mean Absolute Error (MAE) drops from 2.9284 at k=1 to a minimum of 2.5555 at k=2. The MAE marginally rises and stabilizes between 2.6 and 2.7 as k rises above 2. This implies that by balancing bias and variance, k=2 provides the best prediction performance. While bigger k values incorporate more distant neighbors, potentially adding irrelevant information and increasing error, smaller k values may overfit noise (greater MAE at k=1). Therefore, under the specified circumstances, selecting k=2 yields the best model accuracy for this dataset."
      ]
    },
    {
      "cell_type": "markdown",
      "metadata": {
        "id": "nQ0UA7pqxBVF"
      },
      "source": [
        "## 4. (20%) KNN with nominal and real data\n",
        "\n",
        "- Use the [lymph dataset](https://axon.cs.byu.edu/data/uci_class/lymph.arff)\n",
        "- Use a 80/20 split of the data for the training/test set\n",
        "- This dataset has both continuous and nominal attributes\n",
        "- Implement a distance metric which uses Euclidean distance for continuous features and 0/1 distance for nominal. Hints:\n",
        "    - Write your own distance function (e.g. mydist) and use clf = KNeighborsClassifier(metric=mydist)\n",
        "    - Change the nominal features in the data set to integer values since KNeighborsClassifier expects numeric features. I used Label_Encoder on the nominal features.\n",
        "    - Keep a list of which features are nominal which mydist can use to decide which distance measure to use\n",
        "    - There was an occasional bug in SK version 1.3.0 (\"Flags object has no attribute 'c_contiguous'\") that went away when I upgraded to the lastest SK version 1.3.1\n",
        "- Use your own choice for k and other parameters"
      ]
    },
    {
      "cell_type": "code",
      "execution_count": 13,
      "metadata": {
        "id": "x_PLADUdxBVF",
        "colab": {
          "base_uri": "https://localhost:8080/",
          "height": 645
        },
        "outputId": "f9a7604b-cb62-4402-8f51-63787131c4a1"
      },
      "outputs": [
        {
          "output_type": "stream",
          "name": "stdout",
          "text": [
            "Classification Report:\n",
            "              precision    recall  f1-score   support\n",
            "\n",
            "           0       1.00      1.00      1.00         1\n",
            "           1       1.00      0.83      0.91        12\n",
            "           2       0.89      1.00      0.94        17\n",
            "\n",
            "    accuracy                           0.93        30\n",
            "   macro avg       0.96      0.94      0.95        30\n",
            "weighted avg       0.94      0.93      0.93        30\n",
            "\n"
          ]
        },
        {
          "output_type": "display_data",
          "data": {
            "text/plain": [
              "<Figure size 640x480 with 2 Axes>"
            ],
            "image/png": "[encoded data removed]"
          },
          "metadata": {}
        }
      ],
      "source": [
        "import pandas as pd\n",
        "from scipy.io import arff\n",
        "import numpy as np\n",
        "from sklearn.preprocessing import LabelEncoder\n",
        "from sklearn.metrics import pairwise_distances\n",
        "from sklearn.model_selection import train_test_split\n",
        "from sklearn.neighbors import KNeighborsClassifier\n",
        "from sklearn.metrics import classification_report, confusion_matrix, ConfusionMatrixDisplay\n",
        "import matplotlib.pyplot as plt\n",
        "\n",
        "# Load the dataset\n",
        "data, meta = arff.loadarff('lymph.arff')\n",
        "df = pd.DataFrame(data)\n",
        "\n",
        "# Encode nominal features\n",
        "label_encoders = {}\n",
        "for column in df.columns:\n",
        "    le = LabelEncoder()\n",
        "    df[column] = le.fit_transform(df[column])\n",
        "    label_encoders[column] = le\n",
        "\n",
        "# Features and target variable\n",
        "X = df.drop('class', axis=1).values\n",
        "y = df['class'].values\n",
        "\n",
        "# Custom distance function\n",
        "def mydist(x, y):\n",
        "    x = x.reshape(1, -1)\n",
        "    y = y.reshape(1, -1)\n",
        "    return pairwise_distances(x, y, metric='hamming')[0][0]\n",
        "\n",
        "# Split the data\n",
        "X_train, X_test, y_train, y_test = train_test_split(\n",
        "    X, y, test_size=0.2, random_state=42, stratify=y\n",
        ")\n",
        "\n",
        "# Initialize the classifier\n",
        "knn = KNeighborsClassifier(n_neighbors=5, metric=mydist)\n",
        "\n",
        "# Train the model\n",
        "knn.fit(X_train, y_train)\n",
        "\n",
        "# Predictions\n",
        "y_pred = knn.predict(X_test)\n",
        "\n",
        "# Classification report\n",
        "print(\"Classification Report:\")\n",
        "print(classification_report(y_test, y_pred))\n",
        "\n",
        "# Compute the confusion matrix using all classes\n",
        "cm = confusion_matrix(y_test, y_pred, labels=knn.classes_)\n",
        "\n",
        "# Display the confusion matrix\n",
        "disp = ConfusionMatrixDisplay(confusion_matrix=cm, display_labels=knn.classes_)\n",
        "disp.plot()\n",
        "plt.show()"
      ]
    },
    {
      "cell_type": "markdown",
      "metadata": {
        "id": "yNlRkfUKxBVF"
      },
      "source": [
        "The Hamming distance between two samples, which quantifies the percentage of characteristics that differ between them, is calculated by the custom distance metric `mydist`. The Hamming distance is suitable because the Lymphography dataset is made up only of nominal (categorical) features that `LabelEncoder` has converted into integers. Without taking into account any ordinal relationships, it successfully reflects differences in categorical features.\n",
        "\n",
        "The model performed well, with a 93% accuracy rate on the test set. With flawless scores for class 0 and strong scores for classes 1 and 2, the categorization report demonstrates excellent precision and recall across all classes. This suggests that the KNN classifier works well with this dataset when it uses the custom Hamming distance metric. The outcomes confirm that the distance metric manages nominal data correctly, producing precise classifications."
      ]
    },
    {
      "cell_type": "markdown",
      "metadata": {
        "id": "6quCyX5ixBVG"
      },
      "source": [
        "## 5. (Optional 15% extra credit) Code up your own KNN Learner\n",
        "Below is a scaffold you could use if you want. Requirements for this task:\n",
        "- Your model should support the methods shown in the example scaffold below\n",
        "- Use Euclidean distance to decide closest neighbors\n",
        "- Implement both the classification and regression versions\n",
        "- Include optional distance weighting for both algorithms\n",
        "- Run your algorithm on the magic telescope and housing data sets above and discuss and compare your results"
      ]
    },
    {
      "cell_type": "markdown",
      "metadata": {
        "id": "PdYn7CPHxBVG"
      },
      "source": [
        "Euclidean distance was used to create the custom `KNNClassifier` and `KNNRegressor`, which supported both unweighted and inverse distance weighting options. The classifier demonstrated a small improvement with distance weighting, achieving accuracies of 84.36% (no weighting) and 84.62% (inverse weighting) in the classification task on the Magic Telescope dataset. The regressor received R2 scores of 0.7941 (no weighting) and 0.7917 (inverse weighting) for the regression task on the Boston Housing dataset, showing a negligible difference. According to these findings, distance weighting may slightly improve classification accuracy, but in these situations, it has little effect on regression performance. The custom implementations' overall performance was comparable to that of conventional libraries, confirming their accuracy and potency."
      ]
    },
    {
      "cell_type": "code",
      "execution_count": 21,
      "metadata": {
        "id": "ekA85_3TxBVG"
      },
      "outputs": [],
      "source": [
        "from sklearn.base import BaseEstimator, ClassifierMixin\n",
        "\n",
        "class KNNClassifier(BaseEstimator,ClassifierMixin):\n",
        "    def __init__(self, n_neighbors=3, weight_type='no_weight'):\n",
        "        \"\"\"\n",
        "        Args:\n",
        "            columntype for each column tells you if continues[real] or if nominal[categoritcal].\n",
        "            weight_type: inverse_distance voting or if non distance weighting. Options = [\"no_weight\",\"inverse_distance\"]\n",
        "        \"\"\"\n",
        "        self.n_neighbors = n_neighbors\n",
        "        self.weight_type = weight_type\n",
        "\n",
        "    def fit(self, data, labels):\n",
        "        \"\"\" Fit the data; run the algorithm (for this lab really just saves the data :D)\n",
        "        Args:\n",
        "            X (array-like): A 2D numpy array with the training data, excluding targets\n",
        "            y (array-like): A 2D numpy array with the training targets\n",
        "        Returns:\n",
        "            self: this allows this to be chained, e.g. model.fit(X,y).predict(X_test)\n",
        "        \"\"\"\n",
        "        self.X_train = data\n",
        "        self.y_train = labels\n",
        "        return self\n",
        "\n",
        "    def predict(self, data):\n",
        "        \"\"\" Predict all classes for a dataset X\n",
        "        Args:\n",
        "            X (array-like): A 2D numpy array with the training data, excluding targets\n",
        "        Returns:\n",
        "            array, shape (n_samples,)\n",
        "                Predicted target values per element in X.\n",
        "        \"\"\"\n",
        "        predictions = []\n",
        "        for x_test in data:\n",
        "            # Compute Euclidean distances to all training data\n",
        "            distances = np.linalg.norm(self.X_train - x_test, axis=1)\n",
        "            # Get indices of k nearest neighbors\n",
        "            idx = np.argsort(distances)[:self.n_neighbors]\n",
        "            neighbor_labels = self.y_train[idx]\n",
        "            if self.weight_type == 'no_weight':\n",
        "                # Majority vote\n",
        "                values, counts = np.unique(neighbor_labels, return_counts=True)\n",
        "                prediction = values[np.argmax(counts)]\n",
        "            elif self.weight_type == 'inverse_distance':\n",
        "                # Inverse distance weighting\n",
        "                distances_k = distances[idx]\n",
        "                epsilon = 1e-5  # Avoid division by zero\n",
        "                weights = 1 / (distances_k + epsilon)\n",
        "                # Aggregate weights for each class\n",
        "                class_weights = {}\n",
        "                for label, weight in zip(neighbor_labels, weights):\n",
        "                    class_weights[label] = class_weights.get(label, 0) + weight\n",
        "                # Predict the class with the highest total weight\n",
        "                prediction = max(class_weights.items(), key=lambda x: x[1])[0]\n",
        "            else:\n",
        "                raise ValueError(f\"Invalid weight_type: {self.weight_type}\")\n",
        "            predictions.append(prediction)\n",
        "        return np.array(predictions)\n",
        "\n",
        "    #Returns the Mean score given input data and labels\n",
        "    def score(self, X, y):\n",
        "        \"\"\" Return accuracy of model on a given dataset. Must implement own score function.\n",
        "        Args:\n",
        "            X (array-like): A 2D numpy array with data, excluding targets\n",
        "            y (array-like): A 2D numpy array with targets\n",
        "        Returns:\n",
        "            score : float\n",
        "                Mean accuracy of self.predict(X) wrt. y.\n",
        "        \"\"\"\n",
        "        y_pred = self.predict(X)\n",
        "        return np.mean(y_pred == y)"
      ]
    },
    {
      "cell_type": "code",
      "source": [
        "from sklearn.base import BaseEstimator, RegressorMixin\n",
        "\n",
        "class KNNRegressor(BaseEstimator, RegressorMixin):\n",
        "    def __init__(self, n_neighbors=3, weight_type='no_weight'):\n",
        "        \"\"\"\n",
        "        Args:\n",
        "            n_neighbors: Number of neighbors to use.\n",
        "            weight_type: 'no_weight' or 'inverse_distance'.\n",
        "        \"\"\"\n",
        "        self.n_neighbors = n_neighbors\n",
        "        self.weight_type = weight_type\n",
        "\n",
        "    def fit(self, X, y):\n",
        "        \"\"\"Store the training data.\"\"\"\n",
        "        self.X_train = X\n",
        "        self.y_train = y\n",
        "        return self\n",
        "\n",
        "    def predict(self, X):\n",
        "        \"\"\"Predict the target values for the provided data.\"\"\"\n",
        "        predictions = []\n",
        "        for x_test in X:\n",
        "            # Compute Euclidean distances to all training data\n",
        "            distances = np.linalg.norm(self.X_train - x_test, axis=1)\n",
        "            # Get indices of k nearest neighbors\n",
        "            idx = np.argsort(distances)[:self.n_neighbors]\n",
        "            neighbor_values = self.y_train[idx]\n",
        "            if self.weight_type == 'no_weight':\n",
        "                # Simple mean\n",
        "                prediction = np.mean(neighbor_values)\n",
        "            elif self.weight_type == 'inverse_distance':\n",
        "                # Inverse distance weighting\n",
        "                distances = distances[idx]\n",
        "                epsilon = 1e-5\n",
        "                weights = 1 / (distances + epsilon)\n",
        "                prediction = np.dot(weights, neighbor_values) / np.sum(weights)\n",
        "            else:\n",
        "                raise ValueError(f\"Invalid weight_type: {self.weight_type}\")\n",
        "            predictions.append(prediction)\n",
        "        return np.array(predictions)\n",
        "\n",
        "    def score(self, X, y):\n",
        "        \"\"\"Return the coefficient of determination R^2 of the prediction.\"\"\"\n",
        "        y_pred = self.predict(X)\n",
        "        u = ((y - y_pred) ** 2).sum()\n",
        "        v = ((y - y.mean()) ** 2).sum()\n",
        "        return 1 - u / v"
      ],
      "metadata": {
        "id": "8yVuLdd0f_NN"
      },
      "execution_count": 15,
      "outputs": []
    },
    {
      "cell_type": "code",
      "source": [
        "import pandas as pd\n",
        "from scipy.io import arff\n",
        "from sklearn.preprocessing import StandardScaler\n",
        "from sklearn.model_selection import train_test_split\n",
        "from sklearn.metrics import accuracy_score\n",
        "\n",
        "# Load the dataset\n",
        "data, meta = arff.loadarff('MagicTelescope.arff')\n",
        "df = pd.DataFrame(data)\n",
        "\n",
        "# Clean up column names\n",
        "df.columns = df.columns.str.strip().str.replace(':', '', regex=False)\n",
        "\n",
        "# Decode target variable from bytes to string\n",
        "df['class'] = df['class'].apply(lambda x: x.decode('utf-8'))\n",
        "\n",
        "# Features and target variable\n",
        "X = df.drop('class', axis=1).values\n",
        "y = df['class'].values\n",
        "\n",
        "# Normalize the input features\n",
        "scaler = StandardScaler()\n",
        "X_scaled = scaler.fit_transform(X)"
      ],
      "metadata": {
        "id": "doLZQvWdgJHQ"
      },
      "execution_count": 16,
      "outputs": []
    },
    {
      "cell_type": "code",
      "source": [
        "# Split the data into training and testing sets\n",
        "X_train, X_test, y_train, y_test = train_test_split(\n",
        "    X_scaled, y, test_size=0.2, random_state=42, stratify=y\n",
        ")"
      ],
      "metadata": {
        "id": "ZG0q29UMgPXc"
      },
      "execution_count": 17,
      "outputs": []
    },
    {
      "cell_type": "code",
      "source": [
        "# Initialize the custom KNN classifier without distance weighting\n",
        "knn_custom = KNNClassifier(n_neighbors=3, weight_type='no_weight')\n",
        "\n",
        "# Train the model\n",
        "knn_custom.fit(X_train, y_train)\n",
        "\n",
        "# Evaluate the model\n",
        "accuracy = knn_custom.score(X_test, y_test)\n",
        "print(f\"Custom KNN Classifier Accuracy (No Weighting): {accuracy:.4f}\")"
      ],
      "metadata": {
        "colab": {
          "base_uri": "https://localhost:8080/"
        },
        "id": "ZfG-KtJlgRZ0",
        "outputId": "e9a5eda2-f17b-4a25-ba0f-3f62ec1b17ec"
      },
      "execution_count": 22,
      "outputs": [
        {
          "output_type": "stream",
          "name": "stdout",
          "text": [
            "Custom KNN Classifier Accuracy (No Weighting): 0.8436\n"
          ]
        }
      ]
    },
    {
      "cell_type": "code",
      "source": [
        "# Initialize the custom KNN classifier with inverse distance weighting\n",
        "knn_custom_weighted = KNNClassifier(n_neighbors=3, weight_type='inverse_distance')\n",
        "\n",
        "# Train the model\n",
        "knn_custom_weighted.fit(X_train, y_train)\n",
        "\n",
        "# Evaluate the model\n",
        "accuracy_weighted = knn_custom_weighted.score(X_test, y_test)\n",
        "print(f\"Custom KNN Classifier Accuracy (Inverse Distance Weighting): {accuracy_weighted:.4f}\")"
      ],
      "metadata": {
        "colab": {
          "base_uri": "https://localhost:8080/"
        },
        "id": "3D6AE-zlgUI8",
        "outputId": "50209285-e288-4010-fadd-3b56fb1c3145"
      },
      "execution_count": 23,
      "outputs": [
        {
          "output_type": "stream",
          "name": "stdout",
          "text": [
            "Custom KNN Classifier Accuracy (Inverse Distance Weighting): 0.8462\n"
          ]
        }
      ]
    },
    {
      "cell_type": "code",
      "source": [
        "# Load the dataset\n",
        "data, meta = arff.loadarff('housing.arff')\n",
        "df = pd.DataFrame(data)\n",
        "\n",
        "# Decode byte strings to floats\n",
        "for column in df.columns:\n",
        "    df[column] = df[column].apply(lambda x: float(x.decode('utf-8')) if isinstance(x, bytes) else x)\n",
        "\n",
        "# Drop the inappropriate feature 'B'\n",
        "df = df.drop('B', axis=1)\n",
        "\n",
        "# Features and target variable\n",
        "X = df.drop('MEDV', axis=1).values\n",
        "y = df['MEDV'].values\n",
        "\n",
        "# Normalize the input features\n",
        "scaler = StandardScaler()\n",
        "X_scaled = scaler.fit_transform(X)"
      ],
      "metadata": {
        "id": "EVwBy9UsgW76"
      },
      "execution_count": 24,
      "outputs": []
    },
    {
      "cell_type": "code",
      "source": [
        "# Split the data into training and testing sets\n",
        "X_train, X_test, y_train, y_test = train_test_split(\n",
        "    X_scaled, y, test_size=0.2, random_state=42\n",
        ")"
      ],
      "metadata": {
        "id": "mksDseYxgd6K"
      },
      "execution_count": 25,
      "outputs": []
    },
    {
      "cell_type": "code",
      "source": [
        "# Initialize the custom KNN regressor without distance weighting\n",
        "knn_regressor = KNNRegressor(n_neighbors=3, weight_type='no_weight')\n",
        "\n",
        "# Train the model\n",
        "knn_regressor.fit(X_train, y_train)\n",
        "\n",
        "# Evaluate the model\n",
        "r2_score = knn_regressor.score(X_test, y_test)\n",
        "print(f\"Custom KNN Regressor R² Score (No Weighting): {r2_score:.4f}\")"
      ],
      "metadata": {
        "colab": {
          "base_uri": "https://localhost:8080/"
        },
        "id": "Q0UKM841gf-t",
        "outputId": "dfee65c3-e062-4ecc-c34a-d2c11f0c91a2"
      },
      "execution_count": 26,
      "outputs": [
        {
          "output_type": "stream",
          "name": "stdout",
          "text": [
            "Custom KNN Regressor R² Score (No Weighting): 0.7941\n"
          ]
        }
      ]
    },
    {
      "cell_type": "code",
      "source": [
        "# Initialize the custom KNN regressor with inverse distance weighting\n",
        "knn_regressor_weighted = KNNRegressor(n_neighbors=3, weight_type='inverse_distance')\n",
        "\n",
        "# Train the model\n",
        "knn_regressor_weighted.fit(X_train, y_train)\n",
        "\n",
        "# Evaluate the model\n",
        "r2_score_weighted = knn_regressor_weighted.score(X_test, y_test)\n",
        "print(f\"Custom KNN Regressor R² Score (Inverse Distance Weighting): {r2_score_weighted:.4f}\")"
      ],
      "metadata": {
        "colab": {
          "base_uri": "https://localhost:8080/"
        },
        "id": "5cjVhBQTgh2V",
        "outputId": "786e5d5a-2ffc-42c6-adfb-002f0f37d96d"
      },
      "execution_count": 27,
      "outputs": [
        {
          "output_type": "stream",
          "name": "stdout",
          "text": [
            "Custom KNN Regressor R² Score (Inverse Distance Weighting): 0.7917\n"
          ]
        }
      ]
    }
  ],
  "metadata": {
    "colab": {
      "provenance": []
    },
    "kernelspec": {
      "display_name": "Python 3.10.7 64-bit",
      "language": "python",
      "name": "python3"
    },
    "language_info": {
      "codemirror_mode": {
        "name": "ipython",
        "version": 3
      },
      "file_extension": ".py",
      "mimetype": "text/x-python",
      "name": "python",
      "nbconvert_exporter": "python",
      "pygments_lexer": "ipython3",
      "version": "3.10.7"
    },
    "vscode": {
      "interpreter": {
        "hash": "aee8b7b246df8f9039afb4144a1f6fd8d2ca17a180786b69acc140d282b71a49"
      }
    }
  },
  "nbformat": 4,
  "nbformat_minor": 0
}